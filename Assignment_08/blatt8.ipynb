{
 "metadata": {
  "language_info": {
   "codemirror_mode": {
    "name": "ipython",
    "version": 3
   },
   "file_extension": ".py",
   "mimetype": "text/x-python",
   "name": "python",
   "nbconvert_exporter": "python",
   "pygments_lexer": "ipython3",
   "version": "3.9.4"
  },
  "orig_nbformat": 4,
  "kernelspec": {
   "name": "python3",
   "display_name": "Python 3.9.4 64-bit"
  },
  "interpreter": {
   "hash": "aee8b7b246df8f9039afb4144a1f6fd8d2ca17a180786b69acc140d282b71a49"
  }
 },
 "nbformat": 4,
 "nbformat_minor": 2,
 "cells": [
  {
   "cell_type": "code",
   "execution_count": null,
   "metadata": {},
   "outputs": [],
   "source": [
    "# Blatt 8: Matplotlib\n",
    "\n",
    "## Aufgabe 1: Schaubilder\n",
    "Lesen Sie die Datei `company_sales_data.csv` ein. und speichern Sie die Graphen als `.jpg`-Dateien ab\n",
    "1. Erzeugen Sie einen Graphen auf dem man den `total_profit` pro Monat ablesen kann.\n",
    "2. Erzeugen Sie einen Graphen in dem Sie für die  verschiedenen Produktkategorien die Verkaufszahlen pro Monat abbilden (pro Kategorie eine Linie)\n",
    "\n",
    "Abgabe: b8_a1.py, b8_a1_1.jpg b8_a1_2.jpg \n",
    "\n"
   ]
  },
  {
   "source": [
    "Lösung im Feld darunter coden:"
   ],
   "cell_type": "code",
   "metadata": {},
   "execution_count": null,
   "outputs": []
  },
  {
   "source": [
    "print(\"Hey, hier kannst du coden!\")"
   ],
   "cell_type": "code",
   "metadata": {},
   "execution_count": 4,
   "outputs": []
  },
  {
   "cell_type": "code",
   "execution_count": null,
   "metadata": {},
   "outputs": [],
   "source": [
    "## Aufgabe 2: Calvin und Celcius\n",
    "Schreibe 3 Funktionen, die Temperaturen in verschiedenen Skalensysteme umwandeln.\n",
    "\n",
    "*Tipps zur Umrechnung:* \n",
    "```\n",
    "Celsius = 5/9 * (Fahrenheit - 32).\n",
    "Celsius = Kelvin - 273.15.\n",
    "Die tiefste mögliche Temperatur ist den absoluten Nullpunkt 0K \n",
    "```\n",
    "\n",
    "Es soll zum Test umgewandelt werden:\n",
    "```\n",
    "57 Celsius in Fahrenheit\n",
    "98 Celsius in Kelvin\n",
    "120 Fahrenheit in Celsius\n",
    "35 Fahrenheit in Kelvin\n",
    "```"
   ]
  }
 ]
}